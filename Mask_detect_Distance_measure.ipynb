{
  "cells": [
    {
      "cell_type": "markdown",
      "source": [
        "# `Clone repository, install dependencies and check PyTorch and GPU.`"
      ],
      "metadata": {
        "id": "EcV3IAw0TCUt"
      }
    },
    {
      "cell_type": "code",
      "execution_count": null,
      "metadata": {
        "colab": {
          "base_uri": "https://localhost:8080/"
        },
        "id": "xc0aNRoPyLyJ",
        "outputId": "9d183ff0-492b-4785-993a-a1936d53c0b2"
      },
      "outputs": [
        {
          "output_type": "stream",
          "name": "stderr",
          "text": [
            "YOLOv5 🚀 v6.1-242-ga80dd66 Python-3.7.13 torch-1.11.0+cu113 CUDA:0 (Tesla T4, 15110MiB)\n"
          ]
        },
        {
          "output_type": "stream",
          "name": "stdout",
          "text": [
            "Setup complete ✅ (2 CPUs, 12.7 GB RAM, 38.7/78.2 GB disk)\n"
          ]
        }
      ],
      "source": [
        "!git clone https://github.com/ultralytics/yolov5  # clone\n",
        "%cd yolov5\n",
        "%pip install -qr requirements.txt  # install\n",
        "\n",
        "import torch\n",
        "import utils\n",
        "display = utils.notebook_init()  # checks"
      ]
    },
    {
      "cell_type": "markdown",
      "source": [
        "# `Mount Google Drive`"
      ],
      "metadata": {
        "id": "X1Ai2emtTXG4"
      }
    },
    {
      "cell_type": "code",
      "execution_count": null,
      "metadata": {
        "id": "oCUYRPs-yN-k",
        "colab": {
          "base_uri": "https://localhost:8080/"
        },
        "outputId": "aa40bb85-7db3-4276-e7ea-d11036de2119"
      },
      "outputs": [
        {
          "output_type": "stream",
          "name": "stdout",
          "text": [
            "Mounted at /content/drive\n"
          ]
        }
      ],
      "source": [
        "from google.colab import drive\n",
        "drive.mount('/content/drive')"
      ]
    },
    {
      "cell_type": "markdown",
      "source": [
        "# `Train YOLOv5s on Custom Dataset for 50 epochs`"
      ],
      "metadata": {
        "id": "R3Srf5hWTeoy"
      }
    },
    {
      "cell_type": "code",
      "source": [
        "!python train.py --img 640 --batch 16 --epochs 50 --data Custom_faruq.yaml --weights yolov5s.pt --cache"
      ],
      "metadata": {
        "id": "QPiLBjjdvNpl"
      },
      "execution_count": null,
      "outputs": []
    },
    {
      "cell_type": "markdown",
      "source": [
        "# detect.py detect custom classes by last.pt file on images and saving results to runs/detect\n",
        "\n",
        "---\n",
        "\n"
      ],
      "metadata": {
        "id": "oCh0zW_-T47h"
      }
    },
    {
      "cell_type": "code",
      "source": [
        "!python detect.py --weights '/content/yolov5/runs/train/exp/weights/last.pt' --img 640 --conf 0.25 --source '/content/drive/MyDrive/2nd.jpg'"
      ],
      "metadata": {
        "id": "3zYf6I3rnINH"
      },
      "execution_count": null,
      "outputs": []
    },
    {
      "cell_type": "markdown",
      "source": [
        "# `Show Image After Detect`"
      ],
      "metadata": {
        "id": "fXMddKNtoTIJ"
      }
    },
    {
      "cell_type": "code",
      "source": [
        "display.Image(filename='/content/yolov5/runs/detect/exp/thesismate.jpg', width=600)"
      ],
      "metadata": {
        "id": "4Z5_IE1WoNt4"
      },
      "execution_count": null,
      "outputs": []
    },
    {
      "cell_type": "code",
      "source": [
        "!python detect.py --weights '/content/yolov5/runs/train/exp/weights/last.pt' --img 640 --conf 0.25 --source '/content/drive/MyDrive/File_for_test/189.jpg'"
      ],
      "metadata": {
        "id": "LV7wmoimowHt"
      },
      "execution_count": null,
      "outputs": []
    },
    {
      "cell_type": "code",
      "source": [
        "display.Image(filename='/content/yolov5/runs/detect/exp5/189.jpg', width=600)"
      ],
      "metadata": {
        "id": "AUsUCnA5o2eB"
      },
      "execution_count": null,
      "outputs": []
    },
    {
      "cell_type": "code",
      "source": [
        ""
      ],
      "metadata": {
        "id": "ndocZcjwEzDI"
      },
      "execution_count": null,
      "outputs": []
    },
    {
      "cell_type": "markdown",
      "source": [
        "# `detect.py detect custom classes by last.pt file on video and saving results to runs/detect`\n",
        "\n",
        "---\n",
        "\n"
      ],
      "metadata": {
        "id": "5QrHioM_VHu0"
      }
    },
    {
      "cell_type": "code",
      "source": [
        "!python detect.py --weights '/content/yolov5/runs/train/exp/weights/last.pt' --img 640 --conf 0.25 --source '/content/drive/MyDrive/file_for_detect/Face_Mask_distance.mp4'"
      ],
      "metadata": {
        "id": "ijU6IHeHpUHB"
      },
      "execution_count": null,
      "outputs": []
    },
    {
      "cell_type": "markdown",
      "source": [
        "We import various libraries."
      ],
      "metadata": {
        "id": "yq-Gn-zxViye"
      }
    },
    {
      "cell_type": "code",
      "source": [
        "from base64 import b64encode\n",
        "from google.colab import files\n",
        "from google.colab.patches import cv2_imshow\n",
        "from IPython.display import HTML\n",
        "from PIL import Image\n",
        "from tqdm.notebook import tqdm\n",
        "import cv2\n",
        "import numpy as np\n",
        "import os\n",
        "import torch"
      ],
      "metadata": {
        "id": "gxY3WeItFPMi"
      },
      "execution_count": null,
      "outputs": []
    },
    {
      "cell_type": "markdown",
      "source": [
        "# **Model**"
      ],
      "metadata": {
        "id": "pRX7qq3CVwHY"
      }
    },
    {
      "cell_type": "markdown",
      "source": [
        "The model used is YOLOv5x, the best YOLOv5 model. We import it with Torch Hub.\n",
        "\n",
        "When we pass an image to this model, it returns to us where objects are in the image, which objects they are, and what is the model's confidence about this."
      ],
      "metadata": {
        "id": "eWuZXWX1VtXJ"
      }
    },
    {
      "cell_type": "code",
      "source": [
        "model = torch.hub.load('ultralytics/yolov5', 'yolov5x',\n",
        "                       pretrained=True, verbose=False)\n",
        "model.cuda('cuda:0');"
      ],
      "metadata": {
        "id": "xRzKA48yILv4"
      },
      "execution_count": null,
      "outputs": []
    },
    {
      "cell_type": "markdown",
      "source": [
        "**Function for Video Display**"
      ],
      "metadata": {
        "id": "S578sJ1wV5Vn"
      }
    },
    {
      "cell_type": "code",
      "source": [
        "def display_video(path):\n",
        "    # Input video path\n",
        "  save_path = \"/content/yolov5/runs/detect/exp/ove1.mp4\"\n",
        "\n",
        "  # Compressed video path\n",
        "  compressed_path = \"/content/yolov5/runs/detect/exp/ove1.mp4\"\n",
        "\n",
        "  os.system(f\"ffmpeg -i {save_path} -vcodec libx264 {compressed_path}\")\n",
        "\n",
        "  # Show video\n",
        "  mp4 = open(compressed_path,'rb').read()\n",
        "  data_url = \"data:video/mp4;base64,\" + b64encode(mp4).decode()\n",
        "  HTML(\"\"\"\n",
        "  <video width=400 controls>\n",
        "        <source src=\"%s\" type=\"video/mp4\">\n",
        "  </video>\n",
        "  \"\"\" % data_url)"
      ],
      "metadata": {
        "id": "ckvbYR3WF4uV"
      },
      "execution_count": null,
      "outputs": []
    },
    {
      "cell_type": "markdown",
      "source": [
        "`save file path in filename variable`\n",
        "\n",
        "---\n",
        "\n",
        "\n",
        "\n",
        "\n",
        "\n",
        "\n",
        "\n"
      ],
      "metadata": {
        "id": "QNpaJHmpWNxu"
      }
    },
    {
      "cell_type": "code",
      "source": [
        "filename = '/content/yolov5/runs/detect/exp/ove1.mp4'"
      ],
      "metadata": {
        "id": "2QUDGxHIF9lu"
      },
      "execution_count": null,
      "outputs": []
    },
    {
      "cell_type": "markdown",
      "source": [
        "# **People detection**"
      ],
      "metadata": {
        "id": "iaTdB9DtWWan"
      }
    },
    {
      "cell_type": "markdown",
      "source": [
        "The first way to calculate distance among people is just calculate the distance among the rectangles (boxes) returned by the model, more precisely the distance among their centers.\n",
        "\n",
        "---\n",
        "\n"
      ],
      "metadata": {
        "id": "0l64IXsQWf26"
      }
    },
    {
      "cell_type": "code",
      "source": [
        "def center_distance(xyxy1, xyxy2):\n",
        "    '''Calculate the distance of the centers of the boxes.'''\n",
        "    a, b, c, d = xyxy1\n",
        "    x1 = int(np.mean([a, c]))\n",
        "    y1 = int(np.mean([b, d]))\n",
        "\n",
        "    e, f, g, h = xyxy2\n",
        "    x2 = int(np.mean([e, g]))\n",
        "    y2 = int(np.mean([f, h]))\n",
        "    \n",
        "    dist = np.linalg.norm([x1 - x2, y1 - y2])\n",
        "    return dist, x1, y1, x2, y2"
      ],
      "metadata": {
        "id": "WIjBLRMLGPiN"
      },
      "execution_count": null,
      "outputs": []
    },
    {
      "cell_type": "markdown",
      "source": [
        "When we have a frame of a video, we can detect the people on the frame using YOLOv5x and draw the rectangles. The color of the rectangle indicates if the person is too close to another person.\n",
        "\n",
        "\n",
        "---\n",
        "\n"
      ],
      "metadata": {
        "id": "HRkGA75mWijD"
      }
    },
    {
      "cell_type": "code",
      "source": [
        "def detect_people_on_frame(img, confidence, distance):\n",
        "    '''Detect people on a frame and draw the rectangles and lines.'''\n",
        "    results = model([img[:, :, ::-1]])  # Pass the frame through the model and get the boxes\n",
        "\n",
        "    xyxy = results.xyxy[0].cpu().numpy()  # xyxy are the box coordinates\n",
        "    #          x1 (pixels)  y1 (pixels)  x2 (pixels)  y2 (pixels)   confidence        class\n",
        "    # tensor([[7.47613e+02, 4.01168e+01, 1.14978e+03, 7.12016e+02, 8.71210e-01, 0.00000e+00],\n",
        "    #         [1.17464e+02, 1.96875e+02, 1.00145e+03, 7.11802e+02, 8.08795e-01, 0.00000e+00],\n",
        "    #         [4.23969e+02, 4.30401e+02, 5.16833e+02, 7.20000e+02, 7.77376e-01, 2.70000e+01],\n",
        "    #         [9.81310e+02, 3.10712e+02, 1.03111e+03, 4.19273e+02, 2.86850e-01, 2.70000e+01]])\n",
        "\n",
        "    xyxy = xyxy[xyxy[:, 4] >= confidence]  # Filter desired confidence\n",
        "    xyxy = xyxy[xyxy[:, 5] == 0]  # Consider only people\n",
        "    xyxy = xyxy[:, :4]\n",
        "\n",
        "    colors = ['green']*len(xyxy)\n",
        "    for i in range(len(xyxy)):\n",
        "        for j in range(i+1, len(xyxy)):\n",
        "            # Calculate distance of the centers\n",
        "            dist, x1, y1, x2, y2 = center_distance(xyxy[i], xyxy[j])\n",
        "            if dist < distance:\n",
        "                # If dist < distance, boxes are red and a line is drawn\n",
        "                colors[i] = 'red'\n",
        "                colors[j] = 'red'\n",
        "                img = cv2.line(img, (x1, y1), (x2, y2), (0, 0, 255), 2)\n",
        "    for i, (x1, y1, x2, y2) in enumerate(xyxy):\n",
        "        # Draw the boxes\n",
        "        if colors[i] == 'green':\n",
        "            color = (0, 255, 0)\n",
        "        else:\n",
        "            color = (0, 0, 255)\n",
        "        img = cv2.rectangle(img, (x1, y1), (x2, y2), color, 2)\n",
        "    return img"
      ],
      "metadata": {
        "id": "QYHhhPn9GSC2"
      },
      "execution_count": null,
      "outputs": []
    },
    {
      "cell_type": "markdown",
      "source": [
        "To detect people in a video, we iterate through all frames of the video, and save a new video with the rectangles drawn.\n",
        "\n",
        "---\n",
        "\n"
      ],
      "metadata": {
        "id": "VkwGhAAHWqQQ"
      }
    },
    {
      "cell_type": "code",
      "source": [
        "def detect_people_on_video(filename, confidence=0.9, distance=60):\n",
        "    '''Detect people on a video and draw the rectangles and lines.'''\n",
        "    # Capture video\n",
        "    cap = cv2.VideoCapture(filename)\n",
        "\n",
        "    # Get video properties\n",
        "    fps = cap.get(cv2.CAP_PROP_FPS)\n",
        "    width = int(cap.get(cv2.CAP_PROP_FRAME_WIDTH))\n",
        "    height = int(cap.get(cv2.CAP_PROP_FRAME_HEIGHT))\n",
        "\n",
        "    # Define the codec and create VideoWriter object\n",
        "    fourcc = cv2.VideoWriter_fourcc(*'XVID')\n",
        "    if os.path.exists('output.avi'):\n",
        "        os.remove('output.avi')\n",
        "    out = cv2.VideoWriter('output.avi', fourcc, fps, (width, height))\n",
        "\n",
        "    # Iterate through frames and detect people\n",
        "    vidlen = int(cap.get(cv2.CAP_PROP_FRAME_COUNT))\n",
        "    with tqdm(total=vidlen) as pbar:\n",
        "        while cap.isOpened():\n",
        "            # Read a frame\n",
        "            ret, frame = cap.read()\n",
        "            # If it's ok\n",
        "            if ret == True:\n",
        "                frame = detect_people_on_frame(frame, confidence, distance)\n",
        "                # Write new video\n",
        "                out.write(frame)\n",
        "                pbar.update(1)\n",
        "            else:\n",
        "                break\n",
        "\n",
        "    # Release everything if job is finished\n",
        "    cap.release()\n",
        "    out.release()\n",
        "    cv2.destroyAllWindows()"
      ],
      "metadata": {
        "id": "SNecqx9vGUgb"
      },
      "execution_count": null,
      "outputs": []
    },
    {
      "cell_type": "markdown",
      "source": [
        "apply the detection tool.\n",
        "\n",
        "---\n",
        "\n"
      ],
      "metadata": {
        "id": "-Qfz32kPXtii"
      }
    },
    {
      "cell_type": "code",
      "source": [
        "detect_people_on_video(filename, confidence=0.5)"
      ],
      "metadata": {
        "colab": {
          "base_uri": "https://localhost:8080/",
          "height": 49,
          "referenced_widgets": [
            "519f90e9f0a0456cbe42376e9e59c0dc",
            "8ca5bd52e2104b84bde6f77d3696a1a4",
            "37333ef81dda43418a3be9ee9790a5d5",
            "f3fbcdc82d8445ee9f6e32c416b2988b",
            "6daea90a2703440ebba2f4c5fc4e26a9",
            "46141fa13a9943a48ec1c9bb98d82a84",
            "d56918c46f4c4e34ad0ca1300b455c40",
            "42bb1b40775443958a7a837c52cb92a0",
            "af19ba847d974ec88f069746d4c3eeda",
            "ab523d23912f4ace935683cf22bdfa5d",
            "4ecd0ddf4da94777ad225e389dec6a14"
          ]
        },
        "id": "q4Ce8orYGXp-",
        "outputId": "49182110-3c9e-4abb-c2bb-afa5d94deb52"
      },
      "execution_count": null,
      "outputs": [
        {
          "output_type": "display_data",
          "data": {
            "text/plain": [
              "  0%|          | 0/1785 [00:00<?, ?it/s]"
            ],
            "application/vnd.jupyter.widget-view+json": {
              "version_major": 2,
              "version_minor": 0,
              "model_id": "519f90e9f0a0456cbe42376e9e59c0dc"
            }
          },
          "metadata": {}
        }
      ]
    }
  ],
  "metadata": {
    "accelerator": "GPU",
    "colab": {
      "name": "Mask_Distance.ipynb",
      "provenance": []
    },
    "kernelspec": {
      "display_name": "Python 3",
      "name": "python3"
    },
    "language_info": {
      "name": "python"
    },
    "widgets": {
      "application/vnd.jupyter.widget-state+json": {
        "519f90e9f0a0456cbe42376e9e59c0dc": {
          "model_module": "@jupyter-widgets/controls",
          "model_name": "HBoxModel",
          "model_module_version": "1.5.0",
          "state": {
            "_dom_classes": [],
            "_model_module": "@jupyter-widgets/controls",
            "_model_module_version": "1.5.0",
            "_model_name": "HBoxModel",
            "_view_count": null,
            "_view_module": "@jupyter-widgets/controls",
            "_view_module_version": "1.5.0",
            "_view_name": "HBoxView",
            "box_style": "",
            "children": [
              "IPY_MODEL_8ca5bd52e2104b84bde6f77d3696a1a4",
              "IPY_MODEL_37333ef81dda43418a3be9ee9790a5d5",
              "IPY_MODEL_f3fbcdc82d8445ee9f6e32c416b2988b"
            ],
            "layout": "IPY_MODEL_6daea90a2703440ebba2f4c5fc4e26a9"
          }
        },
        "8ca5bd52e2104b84bde6f77d3696a1a4": {
          "model_module": "@jupyter-widgets/controls",
          "model_name": "HTMLModel",
          "model_module_version": "1.5.0",
          "state": {
            "_dom_classes": [],
            "_model_module": "@jupyter-widgets/controls",
            "_model_module_version": "1.5.0",
            "_model_name": "HTMLModel",
            "_view_count": null,
            "_view_module": "@jupyter-widgets/controls",
            "_view_module_version": "1.5.0",
            "_view_name": "HTMLView",
            "description": "",
            "description_tooltip": null,
            "layout": "IPY_MODEL_46141fa13a9943a48ec1c9bb98d82a84",
            "placeholder": "​",
            "style": "IPY_MODEL_d56918c46f4c4e34ad0ca1300b455c40",
            "value": "100%"
          }
        },
        "37333ef81dda43418a3be9ee9790a5d5": {
          "model_module": "@jupyter-widgets/controls",
          "model_name": "FloatProgressModel",
          "model_module_version": "1.5.0",
          "state": {
            "_dom_classes": [],
            "_model_module": "@jupyter-widgets/controls",
            "_model_module_version": "1.5.0",
            "_model_name": "FloatProgressModel",
            "_view_count": null,
            "_view_module": "@jupyter-widgets/controls",
            "_view_module_version": "1.5.0",
            "_view_name": "ProgressView",
            "bar_style": "success",
            "description": "",
            "description_tooltip": null,
            "layout": "IPY_MODEL_42bb1b40775443958a7a837c52cb92a0",
            "max": 1785,
            "min": 0,
            "orientation": "horizontal",
            "style": "IPY_MODEL_af19ba847d974ec88f069746d4c3eeda",
            "value": 1785
          }
        },
        "f3fbcdc82d8445ee9f6e32c416b2988b": {
          "model_module": "@jupyter-widgets/controls",
          "model_name": "HTMLModel",
          "model_module_version": "1.5.0",
          "state": {
            "_dom_classes": [],
            "_model_module": "@jupyter-widgets/controls",
            "_model_module_version": "1.5.0",
            "_model_name": "HTMLModel",
            "_view_count": null,
            "_view_module": "@jupyter-widgets/controls",
            "_view_module_version": "1.5.0",
            "_view_name": "HTMLView",
            "description": "",
            "description_tooltip": null,
            "layout": "IPY_MODEL_ab523d23912f4ace935683cf22bdfa5d",
            "placeholder": "​",
            "style": "IPY_MODEL_4ecd0ddf4da94777ad225e389dec6a14",
            "value": " 1785/1785 [01:42&lt;00:00, 17.84it/s]"
          }
        },
        "6daea90a2703440ebba2f4c5fc4e26a9": {
          "model_module": "@jupyter-widgets/base",
          "model_name": "LayoutModel",
          "model_module_version": "1.2.0",
          "state": {
            "_model_module": "@jupyter-widgets/base",
            "_model_module_version": "1.2.0",
            "_model_name": "LayoutModel",
            "_view_count": null,
            "_view_module": "@jupyter-widgets/base",
            "_view_module_version": "1.2.0",
            "_view_name": "LayoutView",
            "align_content": null,
            "align_items": null,
            "align_self": null,
            "border": null,
            "bottom": null,
            "display": null,
            "flex": null,
            "flex_flow": null,
            "grid_area": null,
            "grid_auto_columns": null,
            "grid_auto_flow": null,
            "grid_auto_rows": null,
            "grid_column": null,
            "grid_gap": null,
            "grid_row": null,
            "grid_template_areas": null,
            "grid_template_columns": null,
            "grid_template_rows": null,
            "height": null,
            "justify_content": null,
            "justify_items": null,
            "left": null,
            "margin": null,
            "max_height": null,
            "max_width": null,
            "min_height": null,
            "min_width": null,
            "object_fit": null,
            "object_position": null,
            "order": null,
            "overflow": null,
            "overflow_x": null,
            "overflow_y": null,
            "padding": null,
            "right": null,
            "top": null,
            "visibility": null,
            "width": null
          }
        },
        "46141fa13a9943a48ec1c9bb98d82a84": {
          "model_module": "@jupyter-widgets/base",
          "model_name": "LayoutModel",
          "model_module_version": "1.2.0",
          "state": {
            "_model_module": "@jupyter-widgets/base",
            "_model_module_version": "1.2.0",
            "_model_name": "LayoutModel",
            "_view_count": null,
            "_view_module": "@jupyter-widgets/base",
            "_view_module_version": "1.2.0",
            "_view_name": "LayoutView",
            "align_content": null,
            "align_items": null,
            "align_self": null,
            "border": null,
            "bottom": null,
            "display": null,
            "flex": null,
            "flex_flow": null,
            "grid_area": null,
            "grid_auto_columns": null,
            "grid_auto_flow": null,
            "grid_auto_rows": null,
            "grid_column": null,
            "grid_gap": null,
            "grid_row": null,
            "grid_template_areas": null,
            "grid_template_columns": null,
            "grid_template_rows": null,
            "height": null,
            "justify_content": null,
            "justify_items": null,
            "left": null,
            "margin": null,
            "max_height": null,
            "max_width": null,
            "min_height": null,
            "min_width": null,
            "object_fit": null,
            "object_position": null,
            "order": null,
            "overflow": null,
            "overflow_x": null,
            "overflow_y": null,
            "padding": null,
            "right": null,
            "top": null,
            "visibility": null,
            "width": null
          }
        },
        "d56918c46f4c4e34ad0ca1300b455c40": {
          "model_module": "@jupyter-widgets/controls",
          "model_name": "DescriptionStyleModel",
          "model_module_version": "1.5.0",
          "state": {
            "_model_module": "@jupyter-widgets/controls",
            "_model_module_version": "1.5.0",
            "_model_name": "DescriptionStyleModel",
            "_view_count": null,
            "_view_module": "@jupyter-widgets/base",
            "_view_module_version": "1.2.0",
            "_view_name": "StyleView",
            "description_width": ""
          }
        },
        "42bb1b40775443958a7a837c52cb92a0": {
          "model_module": "@jupyter-widgets/base",
          "model_name": "LayoutModel",
          "model_module_version": "1.2.0",
          "state": {
            "_model_module": "@jupyter-widgets/base",
            "_model_module_version": "1.2.0",
            "_model_name": "LayoutModel",
            "_view_count": null,
            "_view_module": "@jupyter-widgets/base",
            "_view_module_version": "1.2.0",
            "_view_name": "LayoutView",
            "align_content": null,
            "align_items": null,
            "align_self": null,
            "border": null,
            "bottom": null,
            "display": null,
            "flex": null,
            "flex_flow": null,
            "grid_area": null,
            "grid_auto_columns": null,
            "grid_auto_flow": null,
            "grid_auto_rows": null,
            "grid_column": null,
            "grid_gap": null,
            "grid_row": null,
            "grid_template_areas": null,
            "grid_template_columns": null,
            "grid_template_rows": null,
            "height": null,
            "justify_content": null,
            "justify_items": null,
            "left": null,
            "margin": null,
            "max_height": null,
            "max_width": null,
            "min_height": null,
            "min_width": null,
            "object_fit": null,
            "object_position": null,
            "order": null,
            "overflow": null,
            "overflow_x": null,
            "overflow_y": null,
            "padding": null,
            "right": null,
            "top": null,
            "visibility": null,
            "width": null
          }
        },
        "af19ba847d974ec88f069746d4c3eeda": {
          "model_module": "@jupyter-widgets/controls",
          "model_name": "ProgressStyleModel",
          "model_module_version": "1.5.0",
          "state": {
            "_model_module": "@jupyter-widgets/controls",
            "_model_module_version": "1.5.0",
            "_model_name": "ProgressStyleModel",
            "_view_count": null,
            "_view_module": "@jupyter-widgets/base",
            "_view_module_version": "1.2.0",
            "_view_name": "StyleView",
            "bar_color": null,
            "description_width": ""
          }
        },
        "ab523d23912f4ace935683cf22bdfa5d": {
          "model_module": "@jupyter-widgets/base",
          "model_name": "LayoutModel",
          "model_module_version": "1.2.0",
          "state": {
            "_model_module": "@jupyter-widgets/base",
            "_model_module_version": "1.2.0",
            "_model_name": "LayoutModel",
            "_view_count": null,
            "_view_module": "@jupyter-widgets/base",
            "_view_module_version": "1.2.0",
            "_view_name": "LayoutView",
            "align_content": null,
            "align_items": null,
            "align_self": null,
            "border": null,
            "bottom": null,
            "display": null,
            "flex": null,
            "flex_flow": null,
            "grid_area": null,
            "grid_auto_columns": null,
            "grid_auto_flow": null,
            "grid_auto_rows": null,
            "grid_column": null,
            "grid_gap": null,
            "grid_row": null,
            "grid_template_areas": null,
            "grid_template_columns": null,
            "grid_template_rows": null,
            "height": null,
            "justify_content": null,
            "justify_items": null,
            "left": null,
            "margin": null,
            "max_height": null,
            "max_width": null,
            "min_height": null,
            "min_width": null,
            "object_fit": null,
            "object_position": null,
            "order": null,
            "overflow": null,
            "overflow_x": null,
            "overflow_y": null,
            "padding": null,
            "right": null,
            "top": null,
            "visibility": null,
            "width": null
          }
        },
        "4ecd0ddf4da94777ad225e389dec6a14": {
          "model_module": "@jupyter-widgets/controls",
          "model_name": "DescriptionStyleModel",
          "model_module_version": "1.5.0",
          "state": {
            "_model_module": "@jupyter-widgets/controls",
            "_model_module_version": "1.5.0",
            "_model_name": "DescriptionStyleModel",
            "_view_count": null,
            "_view_module": "@jupyter-widgets/base",
            "_view_module_version": "1.2.0",
            "_view_name": "StyleView",
            "description_width": ""
          }
        }
      }
    }
  },
  "nbformat": 4,
  "nbformat_minor": 0
}